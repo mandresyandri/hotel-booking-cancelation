{
 "cells": [
  {
   "cell_type": "markdown",
   "id": "813413d6-9b94-4858-aea4-713f2bcc3787",
   "metadata": {},
   "source": [
    "# [1-EDA] - Analyse exploratoire des données"
   ]
  },
  {
   "cell_type": "markdown",
   "id": "a182fcfb-15f9-4695-b903-019778fb7344",
   "metadata": {},
   "source": [
    "## Import des modules\n",
    "> cf. [pyproject.toml](pyproject.toml) pour connaître les librairies à installer"
   ]
  },
  {
   "cell_type": "code",
   "execution_count": null,
   "id": "b7a035dd-3ef5-45e8-a14b-79409480dd7e",
   "metadata": {},
   "outputs": [],
   "source": [
    "import os\n",
    "import io\n",
    "import math\n",
    "import boto3\n",
    "import numpy as np\n",
    "import pandas as pd\n",
    "import seaborn as sns\n",
    "import matplotlib.pyplot as plt\n",
    "from dotenv import load_dotenv\n",
    "import matplotlib.pyplot as plt"
   ]
  },
  {
   "cell_type": "markdown",
   "id": "d0fd3152-1cd0-434f-81f3-f9a30c0ac856",
   "metadata": {},
   "source": [
    "## Récupération des données dans le stockage objet AWS S3"
   ]
  },
  {
   "cell_type": "code",
   "execution_count": null,
   "id": "6dc9ef2a-8c85-4487-8fc4-18fe24471000",
   "metadata": {},
   "outputs": [],
   "source": [
    "# Configutations S3 access and data\n",
    "load_dotenv()\n",
    "aws_access_key_id = os.getenv('aws_access_key_id')\n",
    "aws_secret_access_key = os.getenv('aws_secret_access_key')"
   ]
  },
  {
   "cell_type": "code",
   "execution_count": null,
   "id": "5a4c50f5-7e62-41f8-a607-0fd6894af258",
   "metadata": {},
   "outputs": [],
   "source": [
    "# Specific bucket data\n",
    "bucket_name = \"hotel-resa-prediction\"\n",
    "prefix = \"datasets/\"\n",
    "filename_train = \"hotel_bookings.csv\""
   ]
  },
  {
   "cell_type": "code",
   "execution_count": null,
   "id": "3b645d21-c0c0-492f-9111-e5b6334de567",
   "metadata": {},
   "outputs": [],
   "source": [
    "# S3 connection\n",
    "s3 = boto3.client(\n",
    "    service_name = \"s3\",\n",
    "    region_name = \"eu-west-3\",\n",
    "    aws_access_key_id = aws_access_key_id,\n",
    "    aws_secret_access_key = aws_secret_access_key,\n",
    ")"
   ]
  },
  {
   "cell_type": "code",
   "execution_count": null,
   "id": "448e5c96-d213-4592-9659-d49fc5451170",
   "metadata": {},
   "outputs": [],
   "source": [
    "# get datas \n",
    "result = s3.list_objects(Bucket=bucket_name)\n",
    "for obj in result.get('Contents'):\n",
    "    if (obj[\"Key\"].startswith(prefix)) and (obj[\"Key\"].endswith(filename_train)):\n",
    "        data = s3.get_object(Bucket=bucket_name, Key=obj.get('Key'))\n",
    "        contents = data['Body'].read().decode(\"utf-8\")\n",
    "        data = pd.read_csv(io.StringIO(contents), low_memory=False)"
   ]
  },
  {
   "cell_type": "code",
   "execution_count": null,
   "id": "c363f572-0838-4f3b-9e04-f4ec7a9176e2",
   "metadata": {},
   "outputs": [],
   "source": [
    "data.head().T"
   ]
  },
  {
   "cell_type": "code",
   "execution_count": null,
   "id": "e0937c05-16ec-4d10-84ef-ade764291ff0",
   "metadata": {},
   "outputs": [],
   "source": [
    "data.info()"
   ]
  },
  {
   "cell_type": "markdown",
   "id": "cd75a638-f195-4c04-8959-e45f6fd9d4a5",
   "metadata": {},
   "source": [
    "## Cadrage du sujet et problématique "
   ]
  },
  {
   "cell_type": "markdown",
   "id": "6214243a-1742-41e2-86b7-2384a7d39a72",
   "metadata": {},
   "source": [
    "### Contexte\n",
    "Dans le secteur hotelier, une part importante des chambres réservés est finalement annulée.<br/>\n",
    "Ces annulations réduisent le taux d’occupation effectif et les revenus et compliquent la planification du personnel et la gestion du sur-booking. Anticiper le risque qu’une réservation soit annulée permet donc d’ajuster la politique tarifaire (dépôts, conditions d’annulation), de déclencher des actions de réassurance client et d’optimiser le sur-booking.\n",
    "\n",
    "### Objectif\n",
    "Le but est de développer et valider un modèle global de classification binaire qui décide, pour chaque réservation confirmée, si elle sera annulée ou non avant la date d’arrivée.\n",
    "\n",
    "\n",
    "### Base de données\n",
    "Nous utilisons le jeu Hotel Bookings (City Hotel et Resort Hotel), couvrant la période de juillet 2015 à août 2017.\n",
    "Chaque ligne représente une réservation unique, finalisée (confirmée ou annulée). Le jeu comprend environ 120 000.\n",
    "\n",
    "La base de données contient les variables suivantes :\n",
    "\n",
    "| Nom                                                             | Description (valeur ou codage)                                                         |\n",
    "| --------------------------------------------------------------- | -------------------------------------------------------------------------------------- |\n",
    "| **is\\_canceled**                                                | **1** si la réservation a été annulée (cible), **0** sinon.                            |\n",
    "| **hotel**                                                       | Type d’hôtel : *Resort* ou *City*.                                                     |\n",
    "| **lead\\_time**                                                  | Jours entre la date de réservation et la date d’arrivée.                               |\n",
    "| **arrival\\_date\\_year / month / week\\_number / day\\_of\\_month** | Composants calendaires de la date d’arrivée.                                           |\n",
    "| **stays\\_in\\_weekend\\_nights**                                  | Nuits week-end réservées.                                                              |\n",
    "| **stays\\_in\\_week\\_nights**                                     | Nuits semaine réservées.                                                               |\n",
    "| **adults / children / babies**                                  | Composition du groupe.                                                                 |\n",
    "| **meal**                                                        | Formule repas réservée (BB, HB, SC, etc.).                                             |\n",
    "| **country**                                                     | Code ISO du pays du client.                                                            |\n",
    "| **market\\_segment**                                             | Segment commercial (Online TA, Direct, Corporate, …).                                  |\n",
    "| **distribution\\_channel**                                       | Canal (TA/TO, Direct, GDS, Corporate).                                                 |\n",
    "| **is\\_repeated\\_guest**                                         | 1 si client déjà venu.                                                                 |\n",
    "| **previous\\_cancellations**                                     | Nombre d’annulations antérieures.                                                      |\n",
    "| **previous\\_bookings\\_not\\_canceled**                           | Réservations antérieures honorées.                                                     |\n",
    "| **reserved\\_room\\_type**                                        | Catégorie de chambre demandée.                                                         |\n",
    "| **assigned\\_room\\_type**                                        | Catégorie effectivement attribuée la veille de l’arrivée.                              |\n",
    "| **booking\\_changes**                                            | Modifications apportées au dossier avant l’arrivée.                                    |\n",
    "| **deposit\\_type**                                               | *No Deposit*, *Non Refund*, *Refundable*.                                              |\n",
    "| **agent / company**                                             | Identifiants d’agence ou d’entreprise (NULL si non concerné).                          |\n",
    "| **days\\_in\\_waiting\\_list**                                     | Jours passés en liste d’attente avant confirmation.                                    |\n",
    "| **customer\\_type**                                              | Transient, Contract, Group, Transient-Party.                                           |\n",
    "| **adr**                                                         | *Average Daily Rate* (€/nuit).                                                         |\n",
    "| **required\\_car\\_parking\\_spaces**                              | Places parking demandées.                                                              |\n",
    "| **total\\_of\\_special\\_requests**                                | Nbre de demandes spéciales (lit bébé, étage, …).                                       |\n",
    "| **reservation\\_status\\_date**                                   | Date du dernier changement de statut (sera exclue pour éviter la fuite d’information). |\n"
   ]
  },
  {
   "cell_type": "markdown",
   "id": "9e6b77a8-9146-4fe9-b3ef-dbcafef15f0a",
   "metadata": {},
   "source": [
    "## Compréhension global du dataset"
   ]
  },
  {
   "cell_type": "markdown",
   "id": "86971ae6-9c3e-489d-a809-b1db5924d178",
   "metadata": {},
   "source": [
    "### Quelle est la taille du jeu (lignes, colonnes) et la période couverte ?"
   ]
  },
  {
   "cell_type": "code",
   "execution_count": null,
   "id": "5c195947-e0cd-4e89-aa84-eca8ede987df",
   "metadata": {},
   "outputs": [],
   "source": [
    "print(f\"Le dataset contient :\\n- {data.shape[0]} lignes\\n- {data.shape[1]} colonnes\")\n",
    "print(f\"Le dataset couvre la période de {data.arrival_date_year.min()} à {data.arrival_date_year.max()}.\")"
   ]
  },
  {
   "cell_type": "markdown",
   "id": "665b2827-4db8-42be-9d63-893bf305a1ab",
   "metadata": {},
   "source": [
    "### Quels sont les variables catégorielles et les variables numériques ?"
   ]
  },
  {
   "cell_type": "code",
   "execution_count": null,
   "id": "319c7013-9d0b-4af7-a0cf-fa83982e44a1",
   "metadata": {},
   "outputs": [],
   "source": [
    "data.dtypes.value_counts()"
   ]
  },
  {
   "cell_type": "code",
   "execution_count": null,
   "id": "0ccb4834-d18a-4f40-827e-0dd1d2cb2a3a",
   "metadata": {},
   "outputs": [],
   "source": [
    "def plot_grid_by_dtype(\n",
    "        data: pd.DataFrame,\n",
    "        dtypes=\"int64\",\n",
    "        *,\n",
    "        n_cols: int = 3,\n",
    "        categorical_threshold: int = 10,\n",
    "        figsize_per_col: tuple[int, int] = (5, 4),\n",
    "        title: str | None = None,\n",
    "    ) -> None:\n",
    "    \"\"\"\n",
    "    Affiche des graphiques bar-plot pour toutes les colonnes\n",
    "    du DataFrame dont le dtype correspond au(x) type(s) demandé(s).\n",
    "    \"\"\"\n",
    "    if isinstance(dtypes, str):\n",
    "        dtypes = [dtypes]\n",
    "    cols = data.select_dtypes(include=dtypes).columns\n",
    "    if not len(cols):\n",
    "        raise ValueError(\"Aucune colonne ne correspond au dtype demandé.\")\n",
    "\n",
    "\n",
    "    n_plots = len(cols)\n",
    "    n_rows = math.ceil(n_plots / n_cols)\n",
    "    fig_w, fig_h = figsize_per_col\n",
    "    fig, axes = plt.subplots(\n",
    "        n_rows, n_cols,\n",
    "        figsize=(fig_w * n_cols, fig_h * n_rows),\n",
    "        constrained_layout=True\n",
    "    )\n",
    "    axes = axes.ravel()\n",
    "\n",
    "    for ax, col in zip(axes, cols):\n",
    "        series = data[col].dropna()\n",
    "        n_unique = series.nunique()\n",
    "\n",
    "        # choix du type de graphe\n",
    "        if (series.dtype.kind in \"biu\" and n_unique <= categorical_threshold) \\\n",
    "           or (series.dtype.kind == \"O\"):        \n",
    "            counts = series.value_counts().sort_index()\n",
    "            ax.bar(counts.index, counts.values)\n",
    "            ax.set_ylabel(\"Effectif\")\n",
    "        else:\n",
    "            ax.hist(series, bins=\"auto\")\n",
    "            ax.set_ylabel(\"Fréquence\")\n",
    "\n",
    "        ax.set_xlabel(col)\n",
    "        ax.set_title(col)\n",
    "\n",
    "    # masquer les cases vides\n",
    "    for ax in axes[n_plots:]:\n",
    "        ax.set_visible(False)\n",
    "\n",
    "    if title:\n",
    "        fig.suptitle(title, fontsize=14)\n",
    "    plt.show()"
   ]
  },
  {
   "cell_type": "code",
   "execution_count": null,
   "id": "235f2bcc-b9ac-47d5-9620-c5356e36a8f3",
   "metadata": {},
   "outputs": [],
   "source": [
    "plot_grid_by_dtype(data, \"int64\")"
   ]
  },
  {
   "cell_type": "code",
   "execution_count": null,
   "id": "5bba32fb-abe8-472b-9e15-4c19a9851748",
   "metadata": {},
   "outputs": [],
   "source": [
    "plot_grid_by_dtype(data, \"float64\", n_cols=4)"
   ]
  },
  {
   "cell_type": "code",
   "execution_count": null,
   "id": "823832cd-3d39-4118-8a3c-dcf8e86b01ac",
   "metadata": {},
   "outputs": [],
   "source": [
    "plot_grid_by_dtype(\n",
    "    data, \"object\",\n",
    "    categorical_threshold=5,\n",
    "    title=\"Variables catégorielles (object)\"\n",
    ")"
   ]
  },
  {
   "cell_type": "markdown",
   "id": "c39ae752-e7fd-48f9-8696-7d3b95b03b52",
   "metadata": {},
   "source": [
    "**Commentaires :** <br/>\n",
    "La répartition du type de données n'était pas suffisant pour dire si une variable est catégorielle ou numérique. Nous allons répartir les éléments automatiquement pour commencer la séparation des variable en vu du développement de le pipeline. Par la suite, nous allons manuellement faire la répartition adéquate."
   ]
  },
  {
   "cell_type": "code",
   "execution_count": null,
   "id": "86849d74-27e9-412f-8e08-5e876485d5b1",
   "metadata": {},
   "outputs": [],
   "source": [
    "cat_cols = data.select_dtypes(exclude=\"number\").columns.tolist()\n",
    "num_cols = data.select_dtypes(include=\"number\").columns.tolist()"
   ]
  },
  {
   "cell_type": "code",
   "execution_count": null,
   "id": "5a396e0f-539c-4a8a-895c-65ba853bb67d",
   "metadata": {},
   "outputs": [],
   "source": [
    "extra_cat = [\n",
    "    \"is_canceled\", \"is_repeated_guest\",\n",
    "    \"arrival_date_year\", \"arrival_date_week_number\",\n",
    "    \"arrival_date_day_of_month\",\n",
    "    \"required_car_parking_spaces\",\n",
    "    \"country\", \"agent\", \"company\"\n",
    "]\n",
    "\n",
    "for col in extra_cat:\n",
    "    if col in data.columns:\n",
    "        cat_cols.append(col)\n",
    "        if col in num_cols:\n",
    "            num_cols.remove(col)"
   ]
  },
  {
   "cell_type": "code",
   "execution_count": null,
   "id": "d3fa44b3-f809-449b-86be-e4409896124b",
   "metadata": {},
   "outputs": [],
   "source": [
    "print(\"Catégorielles : \", cat_cols)"
   ]
  },
  {
   "cell_type": "code",
   "execution_count": null,
   "id": "3f6042b7-e511-4000-9bcc-2a2b7c559ce7",
   "metadata": {},
   "outputs": [],
   "source": [
    "print(\"Numérique : \", num_cols)"
   ]
  },
  {
   "cell_type": "markdown",
   "id": "06a5651b-22ac-4d4e-9b34-5f053f54e73e",
   "metadata": {},
   "source": [
    "### Est-ce que le jeux de données contient des données `na/null`?"
   ]
  },
  {
   "cell_type": "code",
   "execution_count": null,
   "id": "55b55b48-bc15-40f7-8974-ae229a4e9756",
   "metadata": {},
   "outputs": [],
   "source": [
    "null = pd.DataFrame({\"Null\" : data.isna().sum(), \"Pourcentages des Null\" : (data.isna().sum()) / (data.shape[0]) * (100)})\n",
    "null.sort_values(by=\"Null\", ascending=False).head().style.format(\"{:.2f}\")"
   ]
  },
  {
   "cell_type": "code",
   "execution_count": null,
   "id": "b3ec60f8-18d0-452a-b68f-1aad0a20de8b",
   "metadata": {},
   "outputs": [],
   "source": [
    "print(data.company.unique()[0:10]) # finalement l'explication vient du papier"
   ]
  },
  {
   "cell_type": "code",
   "execution_count": null,
   "id": "aa6d981b-0e63-45be-acd0-bd36466ec26e",
   "metadata": {},
   "outputs": [],
   "source": [
    "print(data.agent.unique()[0:10]) # finalement l'explication vient du papier"
   ]
  },
  {
   "cell_type": "code",
   "execution_count": null,
   "id": "10ce9a8f-926b-45a5-82aa-6926e2396197",
   "metadata": {},
   "outputs": [],
   "source": [
    "print(data.country.unique()[0:10]) # finalement l'explication vient du papier"
   ]
  },
  {
   "cell_type": "code",
   "execution_count": null,
   "id": "deecbefe-fc64-4310-a042-106a27b6681b",
   "metadata": {},
   "outputs": [],
   "source": [
    "print(data.children.unique())"
   ]
  },
  {
   "cell_type": "markdown",
   "id": "fe56790a-c20a-4dcc-92e8-e7d64f40e31a",
   "metadata": {},
   "source": [
    "**Explication des données nulls et leurs traitements :**\n",
    "- `company` : un `null/nan` ici veut tout simplement dire que la réservation n'a pas été faite au nom d'une entreprise. penser à mettre unknown\n",
    "- `agent` : même cas que pour company, `null/nan` signifique que la réservation n'a pas eu d'agent intermédiaire ex : réservation sur le site de l'hôtel...\n",
    "- `country` : la données n'est parfois complété qu'au moment d'arrivé en enregistrant le passeport\n",
    "- `children` : on suppose un oubli de saisie, on va partir du principe que `nan/null` est égale à 0"
   ]
  },
  {
   "cell_type": "code",
   "execution_count": null,
   "id": "a7feaf40-249d-47e2-89a5-bcfea94cf9ba",
   "metadata": {},
   "outputs": [],
   "source": [
    "values = {\"company\": \"inconnue\", \"agent\": \"inconnue\", \"country\": \"inconnnue\", \"children\": 0}\n",
    "data = data.fillna(value=values)"
   ]
  },
  {
   "cell_type": "code",
   "execution_count": null,
   "id": "a5c3e81d-0d36-444c-9f9d-9785ac0247a1",
   "metadata": {},
   "outputs": [],
   "source": [
    "null = pd.DataFrame({\"Null\" : data.isna().sum(), \"Pourcentages des Null\" : (data.isna().sum()) / (data.shape[0]) * (100)})\n",
    "null.sort_values(by=\"Null\", ascending=False).head().style.format(\"{:.2f}\")"
   ]
  },
  {
   "cell_type": "markdown",
   "id": "2fdab430-1c36-461c-a34f-78e09f975ae7",
   "metadata": {},
   "source": [
    "### Les données sont cohérentes ? Y a-t-il des erreurs de saisies ?\n",
    "Règle métier en hotellerie, une chambre réservée doit avoir au moins 1 adulte ou un enfant ou un bébé dedans."
   ]
  },
  {
   "cell_type": "code",
   "execution_count": null,
   "id": "d5f525ad-027a-4011-bc60-b72a8d20f0f3",
   "metadata": {},
   "outputs": [],
   "source": [
    "coherence = (data.children == 0) & (data.adults == 0) & (data.babies == 0)\n",
    "data_filtered = data[coherence]\n",
    "data_filtered[[\"is_canceled\", \"lead_time\",\"children\", \"adults\", \"babies\"]].tail()"
   ]
  },
  {
   "cell_type": "markdown",
   "id": "b9cec25b-d7eb-46d4-94b7-ce1c97fb53a7",
   "metadata": {},
   "source": [
    "**Décision :** il est important de ne pas garder ces données incohérentes causée par une erreur de saisie j'ai donc filmé."
   ]
  },
  {
   "cell_type": "code",
   "execution_count": null,
   "id": "cb36e023-eced-4139-aebc-7ae05a6c96c5",
   "metadata": {},
   "outputs": [],
   "source": [
    "# Ne garder que les données pertinentes\n",
    "data = data[~coherence]\n",
    "data.shape"
   ]
  },
  {
   "cell_type": "markdown",
   "id": "ce43a70d-0c73-4603-a348-c55a56fc6406",
   "metadata": {},
   "source": [
    "### Quel est le taux global d’annulation et son évolution mensuelle ?"
   ]
  },
  {
   "cell_type": "code",
   "execution_count": null,
   "id": "6ddc0e32-b155-46eb-853e-4037cd76ab2a",
   "metadata": {},
   "outputs": [],
   "source": [
    "data.is_canceled.unique()"
   ]
  },
  {
   "cell_type": "code",
   "execution_count": null,
   "id": "356418fb-5d8a-451c-b4a3-f3c1895fe0ce",
   "metadata": {},
   "outputs": [],
   "source": [
    "count_canceled = (\n",
    "    data[\"is_canceled\"]\n",
    "    .value_counts()\n",
    "    .sort_index()\n",
    ")\n",
    "taux_annulation = count_canceled[1] / (count_canceled[0] + count_canceled[1])\n",
    "print(f\"Taux d'annulation global {round(taux_annulation * 100, 2)}%\")"
   ]
  },
  {
   "cell_type": "code",
   "execution_count": null,
   "id": "41c71259-9b87-4eca-855c-99dcd59d59aa",
   "metadata": {},
   "outputs": [],
   "source": [
    "data[\"reservation_status_date\"] = pd.to_datetime(data[\"reservation_status_date\"])\n",
    "monthly_cancel_rate = (\n",
    "    data.groupby(data[\"reservation_status_date\"].dt.to_period(\"M\"))[\"is_canceled\"]\n",
    "      .mean() * 100\n",
    ")\n",
    "monthly_cancel_rate.index = monthly_cancel_rate.index.to_timestamp()"
   ]
  },
  {
   "cell_type": "code",
   "execution_count": null,
   "id": "6e9403ed-d745-4a91-b09a-bd43767e3a35",
   "metadata": {},
   "outputs": [],
   "source": [
    "plt.figure()\n",
    "monthly_cancel_rate.plot()\n",
    "plt.xlabel(\"Mois\")\n",
    "plt.ylabel(\"Taux d'annulation (%)\")\n",
    "plt.title(\"Évolution mensuelle du taux d'annulation\")\n",
    "plt.xticks(rotation=45)\n",
    "plt.tight_layout()\n",
    "plt.show()"
   ]
  },
  {
   "cell_type": "markdown",
   "id": "b5833448-08fb-46ae-8c38-b799e7ebf6f2",
   "metadata": {},
   "source": [
    "## Analyse des variables critiques"
   ]
  },
  {
   "cell_type": "markdown",
   "id": "e7f681c7-5083-465b-a2f0-6b912d8daffc",
   "metadata": {},
   "source": [
    "### Le délai de réservation `lead_time` influence-t-il l’annulation ?"
   ]
  },
  {
   "cell_type": "code",
   "execution_count": null,
   "id": "2a72b62d-ff80-4b37-b111-b69632388099",
   "metadata": {},
   "outputs": [],
   "source": [
    "bins   = [-1, 30, 90, 180, float(\"inf\")]\n",
    "labels = [\"≤30 j\", \"31-90 j\", \"91-180 j\", \"≥181 j\"]\n",
    "\n",
    "data[\"lead_bin\"] = pd.cut(data[\"lead_time\"], bins=bins, labels=labels)"
   ]
  },
  {
   "cell_type": "code",
   "execution_count": null,
   "id": "1f21af1f-c772-4001-b07f-1115bcc3b743",
   "metadata": {},
   "outputs": [],
   "source": [
    "cancel_rate = (\n",
    "    data.groupby(\"lead_bin\")[\"is_canceled\"]\n",
    "      .mean()              \n",
    "      .mul(100)            \n",
    "      .round(1)            \n",
    "      .rename(\"% annul\")\n",
    ")"
   ]
  },
  {
   "cell_type": "code",
   "execution_count": null,
   "id": "c3fe8e81-7227-4411-9a60-c0b9c7f09cc4",
   "metadata": {},
   "outputs": [],
   "source": [
    "cancel_rate.plot(kind=\"bar\", color=\"steelblue\")\n",
    "plt.title(\"Taux d'annulation selon le délai de réservation\")\n",
    "plt.xlabel(\"Lead-time (jours)\")\n",
    "plt.ylabel(\"% d'annulations\")\n",
    "plt.ylim(0, 70)\n",
    "plt.grid(axis=\"y\", alpha=.4)\n",
    "plt.show()"
   ]
  },
  {
   "cell_type": "markdown",
   "id": "18d6f292-1fc6-431a-9ec3-b72f61e1f940",
   "metadata": {},
   "source": [
    "**Conclusion :** on peut dire que plus les jours entre la date de réservation et la date d’arrivée est longue plus on a des annulations."
   ]
  },
  {
   "cell_type": "markdown",
   "id": "a0b2b651-b02a-459e-b7ef-5961ebef71f6",
   "metadata": {},
   "source": [
    "### Les réservations de dernière minute (< 48 h) annulent-elles moins ?\t"
   ]
  },
  {
   "cell_type": "code",
   "execution_count": null,
   "id": "937a1339-356b-4d2f-bfbd-0b94316d29b3",
   "metadata": {},
   "outputs": [],
   "source": [
    "data[\"last_minute\"] = data[\"lead_time\"] < 2 "
   ]
  },
  {
   "cell_type": "code",
   "execution_count": null,
   "id": "83379b61-41d2-4b3a-b9a2-acfc5c696d23",
   "metadata": {},
   "outputs": [],
   "source": [
    "cancel_rate_lm = (\n",
    "    data.groupby(\"last_minute\")[\"is_canceled\"]\n",
    "      .mean()\n",
    "      .mul(100)\n",
    "      .rename(\"% d'annulations\")\n",
    ")"
   ]
  },
  {
   "cell_type": "code",
   "execution_count": null,
   "id": "a9e8e34f-e816-40f0-a18b-8510c0800e12",
   "metadata": {},
   "outputs": [],
   "source": [
    "cancel_rate_lm.plot(kind=\"bar\", color=[\"steelblue\", \"orange\"])\n",
    "plt.xticks([0,1], [\"> 48 h\", \"≤ 48 h\"], rotation=0)\n",
    "plt.ylabel(\"% d'annulations\")\n",
    "plt.title(\"Taux d'annulation | last-minute vs autres\")\n",
    "plt.ylim(0, 50)\n",
    "plt.grid(axis=\"y\", alpha=.4)\n",
    "plt.show()"
   ]
  },
  {
   "cell_type": "markdown",
   "id": "a1793553-b95c-40b5-bbe9-d7bb664214d1",
   "metadata": {},
   "source": [
    "**Conclusion :** On peut conclure que ceux qui réservent à la dernière minutes sont ceux qui annulent le moins."
   ]
  },
  {
   "cell_type": "markdown",
   "id": "c080f6a9-2ee9-45c0-8ad5-8a60d88e6297",
   "metadata": {},
   "source": [
    "### Un nombre élevé de modifications (booking_changes) augmente-t-il le risque ?\t"
   ]
  },
  {
   "cell_type": "code",
   "execution_count": null,
   "id": "a3346d9c-fd82-4afb-b4ee-dade05f7af3b",
   "metadata": {},
   "outputs": [],
   "source": [
    "data[\"booking_changes\"].value_counts().head(10)"
   ]
  },
  {
   "cell_type": "code",
   "execution_count": null,
   "id": "b5a12fe1-a94d-4a23-bea0-7b44cf837b4f",
   "metadata": {},
   "outputs": [],
   "source": [
    "data[\"chg_bin\"] = pd.cut(data.booking_changes,\n",
    "                       bins=[-1,0,1,float(\"inf\")],\n",
    "                       labels=[\"0\", \"1\", \"≥2\"])"
   ]
  },
  {
   "cell_type": "code",
   "execution_count": null,
   "id": "d04ec90e-ff28-42c0-a1d8-47f0462b4d50",
   "metadata": {},
   "outputs": [],
   "source": [
    "cancel_by_chg = (\n",
    "    data.groupby(\"chg_bin\")[\"is_canceled\"]\n",
    "      .mean()\n",
    "      .mul(100)\n",
    "      .round(1)\n",
    ")"
   ]
  },
  {
   "cell_type": "code",
   "execution_count": null,
   "id": "5edbf110-a7f6-4abd-9ee9-b6d52af4ab6c",
   "metadata": {},
   "outputs": [],
   "source": [
    "cancel_by_chg.plot(kind=\"bar\", color=[\"steelblue\",\"orange\",\"firebrick\"])\n",
    "plt.ylabel(\"% d'annulations\")\n",
    "plt.xlabel(\"# modifications\")\n",
    "plt.title(\"Taux d'annulation selon le nombre de modifications\")\n",
    "plt.ylim(0,70)\n",
    "plt.grid(axis=\"y\", ls=\"--\", alpha=.4)\n",
    "plt.show()"
   ]
  },
  {
   "cell_type": "markdown",
   "id": "531fb273-e873-4d1a-8965-1955d3a3e619",
   "metadata": {},
   "source": [
    "**Conclusion** : on remarque que moins on a de modifications, moins on a d'annulation."
   ]
  },
  {
   "cell_type": "markdown",
   "id": "3e1b8629-8bf7-4658-999b-1e34fa9732aa",
   "metadata": {},
   "source": [
    "### Le mismatch de chambre (reserved_room_type ≠ assigned_room_type) est-il critique ?\t"
   ]
  },
  {
   "cell_type": "code",
   "execution_count": null,
   "id": "6744ee58-b9e8-4c5b-931e-a779402a01bc",
   "metadata": {},
   "outputs": [],
   "source": [
    "cancelled = data[data['is_canceled'] == 1]\n",
    "not_cancelled = data[data['is_canceled'] == 0]\n",
    "\n",
    "print(\"Annulations avec assigned_room_type différent :\", \n",
    "      (cancelled['reserved_room_type'] != cancelled['assigned_room_type']).sum())"
   ]
  },
  {
   "cell_type": "code",
   "execution_count": null,
   "id": "3f486a9c-aad4-45ee-9cff-86ff313542bb",
   "metadata": {},
   "outputs": [],
   "source": [
    "print(\"Mismatch chez les annulés :\", \n",
    "      (cancelled['reserved_room_type'] != cancelled['assigned_room_type']).mean()*100, \"%\")\n",
    "print(\"Mismatch chez les non-annulés :\", \n",
    "      (not_cancelled['reserved_room_type'] != not_cancelled['assigned_room_type']).mean()*100, \"%\")"
   ]
  },
  {
   "cell_type": "markdown",
   "id": "153cb145-f1a2-42d3-a7bb-dd5241755b68",
   "metadata": {},
   "source": [
    "Ce test nous montre que le mismatch de chambre ne cause pas d'annulation, au contraire, c'est plutôt protecteur contre l'annulation, la variable est contre-intuitive et potentiellement trompeuse"
   ]
  },
  {
   "cell_type": "markdown",
   "id": "8cff9bc7-8fea-4481-b6a1-998e92512c67",
   "metadata": {},
   "source": [
    "### Les clients récurrents (is_repeated_guest) annulent-ils moins ?\t"
   ]
  },
  {
   "cell_type": "code",
   "execution_count": null,
   "id": "98e4e98c-b6c4-47ea-8369-df00e4ac4e9a",
   "metadata": {},
   "outputs": [],
   "source": [
    "cancel_repeat = (\n",
    "    data.groupby(\"is_repeated_guest\")[\"is_canceled\"]\n",
    "      .mean()\n",
    "      .mul(100)\n",
    "      .rename(\"% annulations\")\n",
    ")"
   ]
  },
  {
   "cell_type": "code",
   "execution_count": null,
   "id": "15817dc6-d365-4271-afd7-47e98ab901dd",
   "metadata": {},
   "outputs": [],
   "source": [
    "cancel_repeat.plot(kind='bar', color=['steelblue', 'orange'])\n",
    "plt.xticks([0,1], ['Nouveaux', 'Récurrents'], rotation=0)\n",
    "plt.ylabel('% d’annulations')\n",
    "plt.title('Taux d’annulation | clients récurrents vs nouveaux')\n",
    "plt.ylim(0, 45)\n",
    "plt.grid(axis='y', ls='--', alpha=.4)\n",
    "plt.show()"
   ]
  },
  {
   "cell_type": "markdown",
   "id": "48364c21-53ee-4586-80ee-346b1bebd0fc",
   "metadata": {},
   "source": [
    "**Conclusion**: oui, les clients récurrents sont ceux qui annulent le moins."
   ]
  },
  {
   "cell_type": "markdown",
   "id": "54c632f3-5d1b-469b-9151-7d839d5b5653",
   "metadata": {},
   "source": [
    "## Impact économique et métriques métier"
   ]
  },
  {
   "cell_type": "markdown",
   "id": "226ad318-7703-4a7d-8be0-4c5ff025c785",
   "metadata": {},
   "source": [
    "### Le prix `adr` est-il corrélé au risque ?"
   ]
  },
  {
   "cell_type": "code",
   "execution_count": null,
   "id": "b6bdc087-bc50-4ad8-8252-e7390446d0b5",
   "metadata": {},
   "outputs": [],
   "source": [
    "data[\"adr_q\"] = pd.qcut(data[\"adr\"], 4, labels=[\"Q1\",\"Q2\",\"Q3\",\"Q4\"])\n",
    "cancel_by_price = (\n",
    "    data.groupby(\"adr_q\")[\"is_canceled\"]\n",
    "      .mean()\n",
    "      .mul(100)\n",
    "      .round(1)\n",
    ")"
   ]
  },
  {
   "cell_type": "code",
   "execution_count": null,
   "id": "2682781c-5bef-4f18-b918-b877e88fa843",
   "metadata": {},
   "outputs": [],
   "source": [
    "cancel_by_price.plot(kind=\"bar\", color=\"steelblue\")\n",
    "plt.ylabel(\"% d'annulations\")\n",
    "plt.xlabel(\"Quartile de prix (ADR)\")\n",
    "plt.title(\"Taux d'annulation selon le quartile de prix\")\n",
    "plt.ylim(0,40); plt.grid(axis=\"y\", ls=\"--\", alpha=.4)\n",
    "plt.show()"
   ]
  },
  {
   "cell_type": "markdown",
   "id": "63cac12c-5531-4780-9473-b933aaee49fe",
   "metadata": {},
   "source": [
    "**Conclusion** : malgré la tendance montrant que les prix élevé augmente le taux d'annulation, on constate que la différence entre taux d'annulation sur q1 et les prix élevé est faible, ce qui nous fait dire que le prix n'est pas le principal facteur de risque d'annulation."
   ]
  },
  {
   "cell_type": "markdown",
   "id": "38fecacf-0bea-4310-abb0-6ba5bf120ea3",
   "metadata": {},
   "source": [
    "### Le dépôt `deposit_type` protège-t-il ?"
   ]
  },
  {
   "cell_type": "code",
   "execution_count": null,
   "id": "2309a053-bcdf-4458-9066-587211dfd23f",
   "metadata": {},
   "outputs": [],
   "source": [
    "cancel_by_deposit = (\n",
    "    data.groupby(\"deposit_type\")[\"is_canceled\"]\n",
    "      .mean()\n",
    "      .mul(100)\n",
    "      .round(1)\n",
    "      .rename(\"% annul\")\n",
    ")"
   ]
  },
  {
   "cell_type": "code",
   "execution_count": null,
   "id": "e7686aa4-7ba4-46e8-beb9-9bad81193c0b",
   "metadata": {},
   "outputs": [],
   "source": [
    "cancel_by_deposit.plot(kind=\"bar\", color=[\"steelblue\",\"orange\",\"green\"])\n",
    "plt.ylabel(\"% d'annulations\")\n",
    "plt.title(\"Taux d'annulation par type de dépôt\")\n",
    "plt.ylim(0, 100)\n",
    "plt.grid(axis=\"y\", ls=\"--\", alpha=.4)\n",
    "plt.show()"
   ]
  },
  {
   "cell_type": "code",
   "execution_count": null,
   "id": "45e0061b-3aeb-40e8-bfda-a71b255cbedd",
   "metadata": {},
   "outputs": [],
   "source": [
    "pd.crosstab(data['deposit_type'], 'n')"
   ]
  },
  {
   "cell_type": "code",
   "execution_count": null,
   "id": "e53a3083-a965-4b16-b5df-25c61964de26",
   "metadata": {},
   "outputs": [],
   "source": [
    "pd.crosstab(\n",
    "    data[\"deposit_type\"],\n",
    "    data[\"is_canceled\"],\n",
    "    normalize=\"index\", \n",
    "    margins=True)"
   ]
  },
  {
   "cell_type": "markdown",
   "id": "18b58a2b-0b35-4458-a685-cfa1c81f453f",
   "metadata": {},
   "source": [
    "**Conclusion** : le dépôt non remboursable ne protège pas contre les annulations."
   ]
  },
  {
   "cell_type": "markdown",
   "id": "791de355-ce8e-4b02-aa71-d7c3e8626c1a",
   "metadata": {},
   "source": [
    "### Le canal de distribution `distribution_channel` ou le segment de marché `market_segment` influence-t-il significativement le taux d'annulation ?"
   ]
  },
  {
   "cell_type": "code",
   "execution_count": null,
   "id": "f60807a8-917b-433b-97ce-9fc4546ff892",
   "metadata": {},
   "outputs": [],
   "source": [
    "cancel_by_channel = (\n",
    "    data.groupby(\"distribution_channel\")[\"is_canceled\"]\n",
    "        .mean()\n",
    "        .mul(100)\n",
    "        .round(1)\n",
    "        .sort_values()\n",
    ")\n",
    "\n",
    "cancel_by_segment = (\n",
    "    data.groupby(\"market_segment\")[\"is_canceled\"]\n",
    "        .mean()\n",
    "        .mul(100)\n",
    "        .round(1)\n",
    "        .sort_values()\n",
    ")"
   ]
  },
  {
   "cell_type": "code",
   "execution_count": null,
   "id": "1844e781-a070-41aa-bd7f-bdbae5ef8cb0",
   "metadata": {},
   "outputs": [],
   "source": [
    "plt.figure(figsize=(7, 4))\n",
    "cancel_by_channel.plot(kind=\"bar\")\n",
    "plt.title(\"Taux d'annulation par canal de distribution\")\n",
    "plt.xlabel(\"Canal de distribution\")\n",
    "plt.ylabel(\"% d'annulations\")\n",
    "plt.grid(axis=\"y\", alpha=.4)\n",
    "plt.tight_layout()\n",
    "plt.show()"
   ]
  },
  {
   "cell_type": "code",
   "execution_count": null,
   "id": "f0243198-eb7b-4f99-8a69-0300e7b0a2a5",
   "metadata": {},
   "outputs": [],
   "source": [
    "plt.figure(figsize=(8, 4))\n",
    "cancel_by_segment.plot(kind=\"bar\")\n",
    "plt.title(\"Taux d'annulation par segment de marché\")\n",
    "plt.xlabel(\"Segment de marché\")\n",
    "plt.ylabel(\"% d'annulations\")\n",
    "plt.grid(axis=\"y\", alpha=.4)\n",
    "plt.tight_layout()\n",
    "plt.show()"
   ]
  },
  {
   "cell_type": "markdown",
   "id": "b3cadf03-0194-4b1e-8893-974b48849324",
   "metadata": {},
   "source": [
    "**Conclusion :** le taux d'annulation varie selon le canal de distribution et le segment de marché. Les réservations directes et corporate sont plus fiable tandis que celles issues des agences, de groupes ou de canaux non identifié présentent un risques d'annulation plus élevé. "
   ]
  },
  {
   "cell_type": "markdown",
   "id": "2d2658c8-1739-40a0-8c1f-22abcf0c65ce",
   "metadata": {},
   "source": [
    "### Le nombre de demandes spéciales `total_of_special_requests` est-il associé à une diminution du risque d'annulation ?"
   ]
  },
  {
   "cell_type": "code",
   "execution_count": null,
   "id": "aef0e189-d759-4532-9f1a-6a8a49b2a7c5",
   "metadata": {},
   "outputs": [],
   "source": [
    "cancel_by_special_requests = (\n",
    "    data.groupby(\"total_of_special_requests\")[\"is_canceled\"]\n",
    "        .mean()\n",
    "        .mul(100)\n",
    "        .round(1)\n",
    ")"
   ]
  },
  {
   "cell_type": "code",
   "execution_count": null,
   "id": "27a4da15-a9c2-43d6-9449-3790ca6d3a7d",
   "metadata": {},
   "outputs": [],
   "source": [
    "plt.figure(figsize=(6, 4))\n",
    "#cancel_by_special_requests.plot(kind=\"bar\")\n",
    "cancel_by_special_requests.plot()\n",
    "plt.title(\"Taux d'annulation selon le nombre de demandes spéciales\")\n",
    "plt.xlabel(\"Nombre de demandes spéciales\")\n",
    "plt.ylabel(\"% d'annulations\")\n",
    "plt.grid(axis=\"y\", alpha=.4)\n",
    "plt.tight_layout()\n",
    "plt.show()"
   ]
  },
  {
   "cell_type": "markdown",
   "id": "2ef6a84b-80af-4ce2-be0a-234acc0c13cb",
   "metadata": {},
   "source": [
    "**Conclusion** : ce taux d'annulation qui diminue montre que les clients qui personnalisent leur séjour sont ceux qui annulent moins. "
   ]
  },
  {
   "cell_type": "markdown",
   "id": "c05a0587-990d-4a65-b33c-0f5430e19a8d",
   "metadata": {},
   "source": [
    "### Le pays d'origine `country` est-il corrélé au comportement d'annulation ?"
   ]
  },
  {
   "cell_type": "code",
   "execution_count": null,
   "id": "acf66840-cb1f-4cf8-a4f5-0635c2d98861",
   "metadata": {},
   "outputs": [],
   "source": [
    "top_countries = (\n",
    "    data[\"country\"].value_counts()\n",
    "    .head(50)\n",
    "    .index\n",
    ")"
   ]
  },
  {
   "cell_type": "code",
   "execution_count": null,
   "id": "93c1caf7-5d4d-4d73-be8e-9574fb43812e",
   "metadata": {},
   "outputs": [],
   "source": [
    "cancel_by_country = (\n",
    "    data[data[\"country\"].isin(top_countries)]\n",
    "        .groupby(\"country\")[\"is_canceled\"]\n",
    "        .mean()\n",
    "        .mul(100)\n",
    "        .round(1)\n",
    "        .sort_values()\n",
    ")"
   ]
  },
  {
   "cell_type": "code",
   "execution_count": null,
   "id": "461fe325-83f4-4f39-ba8a-7e9264a8ebf5",
   "metadata": {},
   "outputs": [],
   "source": [
    "plt.figure(figsize=(30, 10))\n",
    "cancel_by_country.plot(kind=\"bar\", color=\"royalblue\")\n",
    "plt.title(\"Taux d'annulation par pays d'origine\")\n",
    "plt.xlabel(\"Pays\")\n",
    "plt.ylabel(\"% d'annulations\")\n",
    "plt.xticks(rotation=45)\n",
    "plt.grid(axis=\"y\", alpha=.4)\n",
    "plt.tight_layout()\n",
    "plt.show()"
   ]
  },
  {
   "cell_type": "markdown",
   "id": "a7d2480c-42f1-4cdd-a30d-b1491b1b54b6",
   "metadata": {},
   "source": [
    "**Conclusion** : le taux d'annulation varie selon les pays. Les client dont on ne connait pas la nationalités sont ceux qui annulent le moins peut-être parce qu'on ne connait souvent leurs nationnalités que quand ils arrivent."
   ]
  },
  {
   "cell_type": "markdown",
   "id": "8e0f322d-27d2-4654-92fc-37d8e435dfa4",
   "metadata": {},
   "source": [
    "# [2-Clean] - Nettoyage et préparation des données"
   ]
  },
  {
   "cell_type": "markdown",
   "id": "126ecadb-cb88-4632-8b6b-4dbce6d7df25",
   "metadata": {},
   "source": [
    "**Info** : Derniers nettoyages du dataset avant la modélisation. Il faut noter que le nettoyage des données null a déjà été fait dans l'exploration grâce aux informations du papier scientifique."
   ]
  },
  {
   "cell_type": "markdown",
   "id": "53b3f6c1-8789-4477-8d55-04116544e9fd",
   "metadata": {},
   "source": [
    "## Séparation catégorielles et numérique"
   ]
  },
  {
   "cell_type": "code",
   "execution_count": null,
   "id": "12572d2b-f1a9-4b0f-bd40-2b2b98fc56a2",
   "metadata": {},
   "outputs": [],
   "source": [
    "print(f\"Rappel des variables categoriels :\\n{cat_cols}\")"
   ]
  },
  {
   "cell_type": "code",
   "execution_count": null,
   "id": "5d168330-92cf-47c4-a92b-cda09775acc5",
   "metadata": {},
   "outputs": [],
   "source": [
    "print(f\"Rappel des variables numériques :\\n{num_cols}\")"
   ]
  },
  {
   "cell_type": "code",
   "execution_count": null,
   "id": "5b8f01ed-9712-4866-b82b-66c526d8eb88",
   "metadata": {},
   "outputs": [],
   "source": [
    "cat_cols += [\"lead_bin\", \"chg_bin\", \"adr_q\", \"last_minute\"]\n",
    "print(f\"Les variables categoriels finaux :\\n{cat_cols}\")"
   ]
  },
  {
   "cell_type": "markdown",
   "id": "8f4a3bc2-e3e7-4625-81bc-15b4665c5f1c",
   "metadata": {},
   "source": [
    "## Des données abérantes à supprimer ?"
   ]
  },
  {
   "cell_type": "code",
   "execution_count": null,
   "id": "f1d57109-ec40-44e3-bd84-938b60483e4f",
   "metadata": {},
   "outputs": [],
   "source": [
    "def iq_bounds(series, k=1.5):\n",
    "    q1, q3 = np.percentile(series, [25, 75])\n",
    "    iqr = q3 - q1\n",
    "    return q1 - k * iqr, q3 + k * iqr"
   ]
  },
  {
   "cell_type": "code",
   "execution_count": null,
   "id": "1ab0f5a0-85bd-49f5-be87-67ffcec1d9df",
   "metadata": {},
   "outputs": [],
   "source": [
    "rows = []\n",
    "for col in num_cols:\n",
    "    low, high = iq_bounds(data[col].dropna())\n",
    "    out_mask = ~data[col].between(low, high)\n",
    "    rows.append({\n",
    "        \"variable\": col,\n",
    "        \"borne_basse\": round(low, 2),\n",
    "        \"borne_haute\": round(high, 2),\n",
    "        \"nb_outliers\": int(out_mask.sum()),\n",
    "        \"%_outliers\": out_mask.mean() * 100\n",
    "    })\n",
    "\n",
    "outlier_summary = pd.DataFrame(rows).sort_values(\"%_outliers\", ascending=False)\n",
    "outlier_summary"
   ]
  },
  {
   "cell_type": "markdown",
   "id": "b1492e57-07ce-4629-aa67-ed441f71eb31",
   "metadata": {},
   "source": [
    "**Décision :** certe statistiquement, on trouve des outliers mais dans une logique métier c'est une formation qu'il faut garder car ça montre la spécificité du client en effet. (exemple rapide : la majorité des clients de l'hotel sont des couples sans enfants qui ne modifient pas leurs réservation; mais l'hotel a aussi des clients différents, donc ce ne sont des spécifité que l'on veut donner au modèle)."
   ]
  },
  {
   "cell_type": "markdown",
   "id": "cdd06fe6-e372-4ec1-9666-73d4f37509c9",
   "metadata": {},
   "source": [
    "## Exporter les données prétraités"
   ]
  },
  {
   "cell_type": "code",
   "execution_count": null,
   "id": "425f8e5b-4bf4-4c44-afa8-beddfa1ed12f",
   "metadata": {},
   "outputs": [],
   "source": [
    "use_cols = list()\n",
    "for cols in num_cols:\n",
    "    use_cols.append(cols)\n",
    "\n",
    "for cols in cat_cols:\n",
    "    use_cols.append(cols)"
   ]
  },
  {
   "cell_type": "code",
   "execution_count": null,
   "id": "2aabefec-d327-4eea-bb50-aa5c7b64a9ba",
   "metadata": {},
   "outputs": [],
   "source": [
    "print(len(use_cols))\n",
    "print(use_cols)"
   ]
  },
  {
   "cell_type": "code",
   "execution_count": null,
   "id": "13dd6a0d-af99-4d6e-a867-a4ca86feebaf",
   "metadata": {},
   "outputs": [],
   "source": [
    "cols_to_remove = [\n",
    "    \"reservation_status\",\n",
    "    \"reservation_status_date\",\n",
    "    \"required_car_parking_spaces\",\n",
    "    \"days_in_waiting_list\",\n",
    "    'arrival_date_year', \n",
    "]\n",
    "\n",
    "# one-liner\n",
    "use_cols = [c for c in use_cols if c not in cols_to_remove]\n",
    "\n",
    "# or, in place:\n",
    "for c in cols_to_remove:\n",
    "    if c in use_cols:\n",
    "        use_cols.remove(c)"
   ]
  },
  {
   "cell_type": "markdown",
   "id": "5debf950-a80a-4c8d-8c65-a10fba18a4b8",
   "metadata": {},
   "source": [
    "**Info :** des suppression de colonnes sont nécessaire car inutile à donner au modèle pour faire la prédiction. "
   ]
  },
  {
   "cell_type": "code",
   "execution_count": null,
   "id": "06f685d9-8cfe-47c8-98ef-e8ef0f50a6c6",
   "metadata": {},
   "outputs": [],
   "source": [
    "print(len(use_cols))\n",
    "print(use_cols)"
   ]
  },
  {
   "cell_type": "code",
   "execution_count": null,
   "id": "20ce5471-0af8-4044-a4b4-a17d09ea7b2e",
   "metadata": {},
   "outputs": [],
   "source": [
    "processed_data = data[use_cols]\n",
    "processed_data.head().T"
   ]
  },
  {
   "cell_type": "code",
   "execution_count": null,
   "id": "ea9324de-8607-43c5-886a-37bd4869b1d8",
   "metadata": {},
   "outputs": [],
   "source": [
    "filename = \"processed_hotel_bookings.csv\""
   ]
  },
  {
   "cell_type": "code",
   "execution_count": null,
   "id": "e37a8be4-1621-41e4-962a-405795e891ec",
   "metadata": {},
   "outputs": [],
   "source": [
    "processed_data.to_csv(prefix + filename_train, encoding=\"utf8\", index=False)"
   ]
  },
  {
   "cell_type": "code",
   "execution_count": null,
   "id": "2099a842-9cfb-4a44-81d0-aa75d024e133",
   "metadata": {},
   "outputs": [],
   "source": [
    "test_data = pd.read_csv(prefix + filename_train)\n",
    "test_data.head().T"
   ]
  },
  {
   "cell_type": "code",
   "execution_count": null,
   "id": "cc961263-33f7-4b77-9971-dbd03817a6a4",
   "metadata": {},
   "outputs": [],
   "source": [
    "s3.upload_file(prefix + filename, bucket_name, prefix + filename)"
   ]
  },
  {
   "cell_type": "markdown",
   "id": "7df9d694-30df-4bbc-a765-39c4f3731e6b",
   "metadata": {},
   "source": [
    "--> Données prête pour la modélisation est chargé sur AWS S3"
   ]
  },
  {
   "cell_type": "markdown",
   "id": "7f96f418-6b38-49c2-97e4-f0d1aaebe7d7",
   "metadata": {},
   "source": [
    "-- FIN --"
   ]
  }
 ],
 "metadata": {
  "kernelspec": {
   "display_name": "Python 3 (ipykernel)",
   "language": "python",
   "name": "python3"
  },
  "language_info": {
   "codemirror_mode": {
    "name": "ipython",
    "version": 3
   },
   "file_extension": ".py",
   "mimetype": "text/x-python",
   "name": "python",
   "nbconvert_exporter": "python",
   "pygments_lexer": "ipython3",
   "version": "3.11.11"
  }
 },
 "nbformat": 4,
 "nbformat_minor": 5
}
